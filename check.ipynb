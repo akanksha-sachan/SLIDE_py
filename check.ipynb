{
 "cells": [
  {
   "cell_type": "code",
   "execution_count": 1,
   "metadata": {},
   "outputs": [],
   "source": [
    "%load_ext autoreload\n",
    "%autoreload 2"
   ]
  },
  {
   "cell_type": "code",
   "execution_count": 2,
   "metadata": {},
   "outputs": [],
   "source": [
    "import pandas as pd \n",
    "import numpy as np\n",
    "import matplotlib.pyplot as plt\n",
    "import seaborn as sns\n",
    "import os"
   ]
  },
  {
   "cell_type": "code",
   "execution_count": 3,
   "metadata": {},
   "outputs": [],
   "source": [
    "# return(list(K = ncol(A_hat),\n",
    "#               pureVec = I_hat,\n",
    "#               pureInd = I_hat_part,\n",
    "#               group = group,\n",
    "#               A = A_hat,\n",
    "#               C = C_hat,\n",
    "#               Omega = Omega,\n",
    "#               Gamma = Gamma_hat,\n",
    "#               optDelta = optDelta))"
   ]
  },
  {
   "cell_type": "markdown",
   "metadata": {},
   "source": [
    "Getting latent factors for delta,  0.1 , and lambda,  0.5 . \n",
    "f_size is set as  317 \n",
    "         final marginal spec: 0.1\n",
    "      starting interaction selection . . . \n",
    "[1] \"Before doing interaction SLIDE\"\n",
    "[1] \"z47\"\n",
    "[1] \"printing the yhat of each maginals...\"\n",
    "NULL\n",
    "      running knockoffs on marginal/interaction submodels...\n",
    "            only one upsilon . . . using without testing \n",
    "[1] \"uplsion error cheking: \\n\"\n",
    "[1] \"ups47\"\n",
    "[1] \"upsilon colnames:\"\n",
    "Getting performance for real model... \n",
    "Getting performance for fully random model... \n",
    "Getting performance for partially random model... \n",
    "The number of total LFs is  317 .\n",
    "The number of standalone LFs is  1 .\n",
    "The number of interacting LFs is  9 .\n",
    "The approximation of cross-validation performance is  0.6288715 .\n"
   ]
  },
  {
   "cell_type": "code",
   "execution_count": 4,
   "metadata": {},
   "outputs": [],
   "source": [
    "input_params = {\n",
    "    'x_path' : '/ix3/djishnu/alw399/SLIDE_py/example_data/jing_adult_CTL_KIR_SLE_X.csv',\n",
    "    'y_path' : '/ix3/djishnu/alw399/SLIDE_py/example_data/jing_adult_CTL_KIR_SLE_y.csv',\n",
    "    'niter' : 3,\n",
    "    'spec' : 0.1,\n",
    "    'fdr' : 1,\n",
    "    'rep_CV' : 50,\n",
    "    'pure_homo' : True,\n",
    "    'lambda' : [0.5],\n",
    "    'delta' : [0.1],\n",
    "    'out_path': 'example_results/love',\n",
    "    'thresh_fdr': 0.2\n",
    "}"
   ]
  },
  {
   "cell_type": "code",
   "execution_count": 9,
   "metadata": {},
   "outputs": [],
   "source": [
    "import sys\n",
    "sys.path.append('src/SLIDE')"
   ]
  },
  {
   "cell_type": "code",
   "execution_count": 11,
   "metadata": {},
   "outputs": [],
   "source": [
    "from slide import OptimizeSLIDE\n",
    "slider = OptimizeSLIDE(input_params)\n",
    "\n",
    "y = slider.data.Y\n",
    "X = slider.data.X\n"
   ]
  },
  {
   "cell_type": "code",
   "execution_count": 13,
   "metadata": {},
   "outputs": [
    {
     "data": {
      "text/html": [
       "<div>\n",
       "<style scoped>\n",
       "    .dataframe tbody tr th:only-of-type {\n",
       "        vertical-align: middle;\n",
       "    }\n",
       "\n",
       "    .dataframe tbody tr th {\n",
       "        vertical-align: top;\n",
       "    }\n",
       "\n",
       "    .dataframe thead th {\n",
       "        text-align: right;\n",
       "    }\n",
       "</style>\n",
       "<table border=\"1\" class=\"dataframe\">\n",
       "  <thead>\n",
       "    <tr style=\"text-align: right;\">\n",
       "      <th></th>\n",
       "      <th>Z0</th>\n",
       "      <th>Z1</th>\n",
       "      <th>Z2</th>\n",
       "      <th>Z3</th>\n",
       "      <th>Z4</th>\n",
       "      <th>Z5</th>\n",
       "      <th>Z6</th>\n",
       "      <th>Z7</th>\n",
       "      <th>Z8</th>\n",
       "      <th>Z9</th>\n",
       "      <th>...</th>\n",
       "      <th>Z288</th>\n",
       "      <th>Z289</th>\n",
       "      <th>Z290</th>\n",
       "      <th>Z291</th>\n",
       "      <th>Z292</th>\n",
       "      <th>Z293</th>\n",
       "      <th>Z294</th>\n",
       "      <th>Z295</th>\n",
       "      <th>Z296</th>\n",
       "      <th>Z297</th>\n",
       "    </tr>\n",
       "  </thead>\n",
       "  <tbody>\n",
       "    <tr>\n",
       "      <th>KIR1_S383</th>\n",
       "      <td>1.275734</td>\n",
       "      <td>2.621241</td>\n",
       "      <td>-1.897056</td>\n",
       "      <td>-3.398389</td>\n",
       "      <td>2.907179</td>\n",
       "      <td>2.781502</td>\n",
       "      <td>0.446547</td>\n",
       "      <td>0.612499</td>\n",
       "      <td>-0.282035</td>\n",
       "      <td>0.623728</td>\n",
       "      <td>...</td>\n",
       "      <td>2.203205</td>\n",
       "      <td>-0.499593</td>\n",
       "      <td>4.403616</td>\n",
       "      <td>2.120190</td>\n",
       "      <td>4.560253</td>\n",
       "      <td>-2.492526</td>\n",
       "      <td>1.594596</td>\n",
       "      <td>0.789552</td>\n",
       "      <td>-0.532972</td>\n",
       "      <td>-0.992736</td>\n",
       "    </tr>\n",
       "    <tr>\n",
       "      <th>KIR1_S385</th>\n",
       "      <td>1.103436</td>\n",
       "      <td>0.989648</td>\n",
       "      <td>-2.097103</td>\n",
       "      <td>1.030024</td>\n",
       "      <td>-0.036912</td>\n",
       "      <td>-1.103845</td>\n",
       "      <td>-0.614409</td>\n",
       "      <td>0.365514</td>\n",
       "      <td>-0.709378</td>\n",
       "      <td>1.853581</td>\n",
       "      <td>...</td>\n",
       "      <td>0.410724</td>\n",
       "      <td>-1.601530</td>\n",
       "      <td>1.841387</td>\n",
       "      <td>-0.538300</td>\n",
       "      <td>0.992549</td>\n",
       "      <td>-0.148245</td>\n",
       "      <td>-1.228353</td>\n",
       "      <td>4.355314</td>\n",
       "      <td>-2.337348</td>\n",
       "      <td>-0.795665</td>\n",
       "    </tr>\n",
       "    <tr>\n",
       "      <th>KIR1_S388</th>\n",
       "      <td>3.601299</td>\n",
       "      <td>-2.027444</td>\n",
       "      <td>-1.044921</td>\n",
       "      <td>-1.234978</td>\n",
       "      <td>0.856617</td>\n",
       "      <td>-0.095376</td>\n",
       "      <td>-1.857058</td>\n",
       "      <td>-0.360887</td>\n",
       "      <td>2.071314</td>\n",
       "      <td>-3.141949</td>\n",
       "      <td>...</td>\n",
       "      <td>1.118567</td>\n",
       "      <td>4.951853</td>\n",
       "      <td>1.637125</td>\n",
       "      <td>0.146825</td>\n",
       "      <td>-2.154139</td>\n",
       "      <td>-1.901522</td>\n",
       "      <td>-0.132736</td>\n",
       "      <td>-0.830408</td>\n",
       "      <td>0.360119</td>\n",
       "      <td>-3.215163</td>\n",
       "    </tr>\n",
       "  </tbody>\n",
       "</table>\n",
       "<p>3 rows × 298 columns</p>\n",
       "</div>"
      ],
      "text/plain": [
       "                 Z0        Z1        Z2        Z3        Z4        Z5  \\\n",
       "KIR1_S383  1.275734  2.621241 -1.897056 -3.398389  2.907179  2.781502   \n",
       "KIR1_S385  1.103436  0.989648 -2.097103  1.030024 -0.036912 -1.103845   \n",
       "KIR1_S388  3.601299 -2.027444 -1.044921 -1.234978  0.856617 -0.095376   \n",
       "\n",
       "                 Z6        Z7        Z8        Z9  ...      Z288      Z289  \\\n",
       "KIR1_S383  0.446547  0.612499 -0.282035  0.623728  ...  2.203205 -0.499593   \n",
       "KIR1_S385 -0.614409  0.365514 -0.709378  1.853581  ...  0.410724 -1.601530   \n",
       "KIR1_S388 -1.857058 -0.360887  2.071314 -3.141949  ...  1.118567  4.951853   \n",
       "\n",
       "               Z290      Z291      Z292      Z293      Z294      Z295  \\\n",
       "KIR1_S383  4.403616  2.120190  4.560253 -2.492526  1.594596  0.789552   \n",
       "KIR1_S385  1.841387 -0.538300  0.992549 -0.148245 -1.228353  4.355314   \n",
       "KIR1_S388  1.637125  0.146825 -2.154139 -1.901522 -0.132736 -0.830408   \n",
       "\n",
       "               Z296      Z297  \n",
       "KIR1_S383 -0.532972 -0.992736  \n",
       "KIR1_S385 -2.337348 -0.795665  \n",
       "KIR1_S388  0.360119 -3.215163  \n",
       "\n",
       "[3 rows x 298 columns]"
      ]
     },
     "execution_count": 13,
     "metadata": {},
     "output_type": "execute_result"
    }
   ],
   "source": [
    "slider.load_love('example_results/love/0.1_0.5/love_result.pkl')\n",
    "slider.latent_factors.head(3)"
   ]
  },
  {
   "cell_type": "code",
   "execution_count": 14,
   "metadata": {},
   "outputs": [],
   "source": [
    "from knockoffs import Knockoffs\n",
    "\n",
    "z = slider.latent_factors.values\n",
    "y = slider.data.Y.values\n",
    "machop = Knockoffs(y, z)"
   ]
  },
  {
   "cell_type": "code",
   "execution_count": 20,
   "metadata": {},
   "outputs": [
    {
     "name": "stderr",
     "output_type": "stream",
     "text": [
      "Processing subsets: 100%|██████████| 1/1 [00:11<00:00, 11.18s/it]\n"
     ]
    },
    {
     "data": {
      "text/plain": [
       "array([  1,  23,  25,  45,  46,  50,  52,  57,  65,  68,  80,  82, 109,\n",
       "       117, 119, 120, 129, 131, 137, 150, 156, 157, 158, 187, 207, 231,\n",
       "       233, 241, 294])"
      ]
     },
     "execution_count": 20,
     "metadata": {},
     "output_type": "execute_result"
    }
   ],
   "source": [
    "machop.select_short_freq(z, fdr=0.05, spec=0.2, niter=10, f_size=298, n_workers=1)"
   ]
  },
  {
   "cell_type": "code",
   "execution_count": 76,
   "metadata": {},
   "outputs": [],
   "source": [
    "z_scaled = machop.scale_features(z)\n",
    "y_scaled = machop.y.copy()"
   ]
  },
  {
   "cell_type": "code",
   "execution_count": null,
   "metadata": {},
   "outputs": [
    {
     "data": {
      "text/plain": [
       "array([1., 1., 0., 1., 1., 1., 0., 1., 0., 1., 1., 1., 0., 0., 1., 1., 1.,\n",
       "       0., 0., 1., 0., 1., 1., 1., 0., 1., 0., 1., 0., 0., 1., 1., 1., 1.,\n",
       "       1., 1., 0., 1., 0., 1., 1., 0., 1., 1., 0., 1., 1., 1., 1., 1., 1.,\n",
       "       1., 1., 1., 1., 0., 1., 1., 1., 0., 0., 1., 1., 1., 1., 1., 0., 0.,\n",
       "       1., 1., 1., 0., 0., 0., 1., 1., 0., 0., 0., 1., 1., 0., 1., 0., 1.,\n",
       "       1., 1., 1., 0., 1., 1., 1., 1., 0., 0., 1., 1., 0., 0., 1., 0., 1.,\n",
       "       1., 1., 1., 0., 0., 0., 1., 1., 1., 1., 0., 1., 0., 0., 0., 1., 0.,\n",
       "       1., 1., 1., 1., 1., 1., 0., 0., 0., 1., 1., 0., 1., 0., 0., 1., 1.,\n",
       "       0., 1., 1., 1., 0., 0., 0., 1., 0., 1., 1., 1., 1., 1., 1., 1., 0.,\n",
       "       0., 1., 1., 1., 1., 1., 0., 0., 1., 1., 0., 0., 1., 1., 1., 1., 0.,\n",
       "       1., 1., 1., 1., 0., 0., 0., 0., 1., 0., 0., 1., 1., 0., 1., 1., 1.,\n",
       "       1., 1., 1., 0., 1., 0., 1., 0., 1., 1., 1., 0., 1., 1., 0., 1., 1.,\n",
       "       0., 0., 0., 1., 0., 1., 1., 0., 0., 1., 1., 1., 1., 1., 0., 1., 1.,\n",
       "       0., 1., 1., 1., 0., 1., 1., 1., 0., 1., 1., 1., 1., 1., 1., 1., 1.,\n",
       "       1., 0., 1., 1., 1., 1., 1., 1., 1., 0., 0., 1., 0., 1., 1., 0., 0.,\n",
       "       1., 0., 1., 0., 1., 0., 1., 1., 0., 1., 1., 1., 1., 0., 1., 1., 0.,\n",
       "       0., 1., 1., 1., 1., 0., 1., 0., 0., 1., 1., 0., 1., 0., 1., 0., 0.,\n",
       "       0., 1., 1., 1., 1., 1., 0., 0., 1.], dtype=float32)"
      ]
     },
     "execution_count": 77,
     "metadata": {},
     "output_type": "execute_result"
    }
   ],
   "source": [
    "from knockpy import KnockoffFilter\n",
    "\n",
    "kfilter = KnockoffFilter(\n",
    "    ksampler='gaussian', \n",
    "    fstat='lasso'\n",
    ")\n",
    "rejections = kfilter.forward(X=z_scaled, y=y.values, fdr=1, shrinkage=\"ledoitwolf\")\n",
    "rejections"
   ]
  },
  {
   "cell_type": "code",
   "execution_count": null,
   "metadata": {},
   "outputs": [],
   "source": []
  }
 ],
 "metadata": {
  "kernelspec": {
   "display_name": "Python 3",
   "language": "python",
   "name": "python3"
  },
  "language_info": {
   "codemirror_mode": {
    "name": "ipython",
    "version": 3
   },
   "file_extension": ".py",
   "mimetype": "text/x-python",
   "name": "python",
   "nbconvert_exporter": "python",
   "pygments_lexer": "ipython3",
   "version": "3.9.21"
  }
 },
 "nbformat": 4,
 "nbformat_minor": 2
}
