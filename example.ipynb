{
 "cells": [
  {
   "cell_type": "code",
   "execution_count": 2,
   "metadata": {},
   "outputs": [],
   "source": [
    "%load_ext autoreload\n",
    "%autoreload 2"
   ]
  },
  {
   "cell_type": "code",
   "execution_count": 3,
   "metadata": {},
   "outputs": [
    {
     "name": "stderr",
     "output_type": "stream",
     "text": [
      "/ihome/djishnu/alw399/.local/lib/python3.9/site-packages/louvain/__init__.py:54: UserWarning: pkg_resources is deprecated as an API. See https://setuptools.pypa.io/en/latest/pkg_resources.html. The pkg_resources package is slated for removal as early as 2025-11-30. Refrain from using this package or pin to Setuptools<81.\n",
      "  from pkg_resources import get_distribution, DistributionNotFound\n"
     ]
    }
   ],
   "source": [
    "import pandas as pd\n",
    "import numpy as np\n",
    "import scanpy as sc"
   ]
  },
  {
   "cell_type": "code",
   "execution_count": 4,
   "metadata": {},
   "outputs": [],
   "source": [
    "# adata = sc.read_h5ad('/ix3/djishnu/alw399/SLIDE_PLM/data/alyx/tcells/seacells_adata.h5ad')\n",
    "# adata"
   ]
  },
  {
   "cell_type": "code",
   "execution_count": null,
   "metadata": {},
   "outputs": [],
   "source": [
    "x = pd.read_csv('example_data/HIV+cytokines_X.csv', index_col=0)\n",
    "y = pd.read_csv('example_data/HIV+cytokines_y.csv', index_col=0)"
   ]
  },
  {
   "cell_type": "code",
   "execution_count": 9,
   "metadata": {},
   "outputs": [
    {
     "data": {
      "text/html": [
       "<div>\n",
       "<style scoped>\n",
       "    .dataframe tbody tr th:only-of-type {\n",
       "        vertical-align: middle;\n",
       "    }\n",
       "\n",
       "    .dataframe tbody tr th {\n",
       "        vertical-align: top;\n",
       "    }\n",
       "\n",
       "    .dataframe thead th {\n",
       "        text-align: right;\n",
       "    }\n",
       "</style>\n",
       "<table border=\"1\" class=\"dataframe\">\n",
       "  <thead>\n",
       "    <tr style=\"text-align: right;\">\n",
       "      <th></th>\n",
       "      <th>4+GT2+_CF</th>\n",
       "      <th>4+GT2+_ES</th>\n",
       "      <th>4+GT2+_PP</th>\n",
       "      <th>4+GT2+_TB</th>\n",
       "      <th>4+Gt2-_CF</th>\n",
       "      <th>4+Gt2-_ES</th>\n",
       "      <th>4+Gt2-_PP</th>\n",
       "      <th>4+Gt2-_TB</th>\n",
       "      <th>4+GT2-_CF</th>\n",
       "      <th>4+GT2-_ES</th>\n",
       "      <th>...</th>\n",
       "      <th>8+G+_PP</th>\n",
       "      <th>8+G+_TB</th>\n",
       "      <th>8+2+_CF</th>\n",
       "      <th>8+2+_ES</th>\n",
       "      <th>8+2+_PP</th>\n",
       "      <th>8+2+_TB</th>\n",
       "      <th>8+T+_CF</th>\n",
       "      <th>8+T+_ES</th>\n",
       "      <th>8+T+_PP</th>\n",
       "      <th>8+T+_TB</th>\n",
       "    </tr>\n",
       "    <tr>\n",
       "      <th>PATIENT ID</th>\n",
       "      <th></th>\n",
       "      <th></th>\n",
       "      <th></th>\n",
       "      <th></th>\n",
       "      <th></th>\n",
       "      <th></th>\n",
       "      <th></th>\n",
       "      <th></th>\n",
       "      <th></th>\n",
       "      <th></th>\n",
       "      <th></th>\n",
       "      <th></th>\n",
       "      <th></th>\n",
       "      <th></th>\n",
       "      <th></th>\n",
       "      <th></th>\n",
       "      <th></th>\n",
       "      <th></th>\n",
       "      <th></th>\n",
       "      <th></th>\n",
       "      <th></th>\n",
       "    </tr>\n",
       "  </thead>\n",
       "  <tbody>\n",
       "    <tr>\n",
       "      <th>TB-1013</th>\n",
       "      <td>-0.351467</td>\n",
       "      <td>-0.494833</td>\n",
       "      <td>0.020765</td>\n",
       "      <td>-0.298490</td>\n",
       "      <td>-0.312934</td>\n",
       "      <td>-0.324441</td>\n",
       "      <td>-0.549784</td>\n",
       "      <td>-0.312218</td>\n",
       "      <td>-0.266078</td>\n",
       "      <td>-0.226816</td>\n",
       "      <td>...</td>\n",
       "      <td>-0.354071</td>\n",
       "      <td>1.044139</td>\n",
       "      <td>-0.577204</td>\n",
       "      <td>-0.512279</td>\n",
       "      <td>-0.403687</td>\n",
       "      <td>-0.350745</td>\n",
       "      <td>-0.315942</td>\n",
       "      <td>-0.246482</td>\n",
       "      <td>-0.086242</td>\n",
       "      <td>0.103430</td>\n",
       "    </tr>\n",
       "    <tr>\n",
       "      <th>TB-1017</th>\n",
       "      <td>-0.319115</td>\n",
       "      <td>-0.349612</td>\n",
       "      <td>-0.251067</td>\n",
       "      <td>-0.346845</td>\n",
       "      <td>-0.312934</td>\n",
       "      <td>-0.324441</td>\n",
       "      <td>-0.156850</td>\n",
       "      <td>-0.312218</td>\n",
       "      <td>-0.237711</td>\n",
       "      <td>-0.170521</td>\n",
       "      <td>...</td>\n",
       "      <td>-0.344015</td>\n",
       "      <td>-0.425125</td>\n",
       "      <td>1.207447</td>\n",
       "      <td>-0.512279</td>\n",
       "      <td>0.009329</td>\n",
       "      <td>-0.113176</td>\n",
       "      <td>1.163932</td>\n",
       "      <td>-0.233130</td>\n",
       "      <td>0.097271</td>\n",
       "      <td>-0.214786</td>\n",
       "    </tr>\n",
       "    <tr>\n",
       "      <th>TB-1024</th>\n",
       "      <td>-0.288968</td>\n",
       "      <td>2.705440</td>\n",
       "      <td>0.204968</td>\n",
       "      <td>-0.212607</td>\n",
       "      <td>-0.312934</td>\n",
       "      <td>-0.324441</td>\n",
       "      <td>0.458331</td>\n",
       "      <td>-0.312218</td>\n",
       "      <td>-0.116112</td>\n",
       "      <td>0.482073</td>\n",
       "      <td>...</td>\n",
       "      <td>-0.454626</td>\n",
       "      <td>-0.514171</td>\n",
       "      <td>0.350815</td>\n",
       "      <td>0.090282</td>\n",
       "      <td>-0.208048</td>\n",
       "      <td>-0.469529</td>\n",
       "      <td>-0.359625</td>\n",
       "      <td>0.252891</td>\n",
       "      <td>-0.485610</td>\n",
       "      <td>-0.360257</td>\n",
       "    </tr>\n",
       "  </tbody>\n",
       "</table>\n",
       "<p>3 rows × 80 columns</p>\n",
       "</div>"
      ],
      "text/plain": [
       "            4+GT2+_CF  4+GT2+_ES  4+GT2+_PP  4+GT2+_TB  4+Gt2-_CF  4+Gt2-_ES  \\\n",
       "PATIENT ID                                                                     \n",
       "TB-1013     -0.351467  -0.494833   0.020765  -0.298490  -0.312934  -0.324441   \n",
       "TB-1017     -0.319115  -0.349612  -0.251067  -0.346845  -0.312934  -0.324441   \n",
       "TB-1024     -0.288968   2.705440   0.204968  -0.212607  -0.312934  -0.324441   \n",
       "\n",
       "            4+Gt2-_PP  4+Gt2-_TB  4+GT2-_CF  4+GT2-_ES  ...   8+G+_PP  \\\n",
       "PATIENT ID                                              ...             \n",
       "TB-1013     -0.549784  -0.312218  -0.266078  -0.226816  ... -0.354071   \n",
       "TB-1017     -0.156850  -0.312218  -0.237711  -0.170521  ... -0.344015   \n",
       "TB-1024      0.458331  -0.312218  -0.116112   0.482073  ... -0.454626   \n",
       "\n",
       "             8+G+_TB   8+2+_CF   8+2+_ES   8+2+_PP   8+2+_TB   8+T+_CF  \\\n",
       "PATIENT ID                                                               \n",
       "TB-1013     1.044139 -0.577204 -0.512279 -0.403687 -0.350745 -0.315942   \n",
       "TB-1017    -0.425125  1.207447 -0.512279  0.009329 -0.113176  1.163932   \n",
       "TB-1024    -0.514171  0.350815  0.090282 -0.208048 -0.469529 -0.359625   \n",
       "\n",
       "             8+T+_ES   8+T+_PP   8+T+_TB  \n",
       "PATIENT ID                                \n",
       "TB-1013    -0.246482 -0.086242  0.103430  \n",
       "TB-1017    -0.233130  0.097271 -0.214786  \n",
       "TB-1024     0.252891 -0.485610 -0.360257  \n",
       "\n",
       "[3 rows x 80 columns]"
      ]
     },
     "execution_count": 9,
     "metadata": {},
     "output_type": "execute_result"
    }
   ],
   "source": [
    "x.head(3)"
   ]
  },
  {
   "cell_type": "code",
   "execution_count": 10,
   "metadata": {},
   "outputs": [
    {
     "data": {
      "text/html": [
       "<div>\n",
       "<style scoped>\n",
       "    .dataframe tbody tr th:only-of-type {\n",
       "        vertical-align: middle;\n",
       "    }\n",
       "\n",
       "    .dataframe tbody tr th {\n",
       "        vertical-align: top;\n",
       "    }\n",
       "\n",
       "    .dataframe thead th {\n",
       "        text-align: right;\n",
       "    }\n",
       "</style>\n",
       "<table border=\"1\" class=\"dataframe\">\n",
       "  <thead>\n",
       "    <tr style=\"text-align: right;\">\n",
       "      <th></th>\n",
       "      <th>Class_Class</th>\n",
       "    </tr>\n",
       "    <tr>\n",
       "      <th>PATIENT ID</th>\n",
       "      <th></th>\n",
       "    </tr>\n",
       "  </thead>\n",
       "  <tbody>\n",
       "    <tr>\n",
       "      <th>TB-1013</th>\n",
       "      <td>1</td>\n",
       "    </tr>\n",
       "    <tr>\n",
       "      <th>TB-1017</th>\n",
       "      <td>1</td>\n",
       "    </tr>\n",
       "    <tr>\n",
       "      <th>TB-1024</th>\n",
       "      <td>1</td>\n",
       "    </tr>\n",
       "  </tbody>\n",
       "</table>\n",
       "</div>"
      ],
      "text/plain": [
       "            Class_Class\n",
       "PATIENT ID             \n",
       "TB-1013               1\n",
       "TB-1017               1\n",
       "TB-1024               1"
      ]
     },
     "execution_count": 10,
     "metadata": {},
     "output_type": "execute_result"
    }
   ],
   "source": [
    "y.head(3)"
   ]
  },
  {
   "cell_type": "code",
   "execution_count": 6,
   "metadata": {},
   "outputs": [],
   "source": [
    "input_params = {\n",
    "    'x_path' : None,\n",
    "    'y_path' : None,\n",
    "    'fdr' : 0.1,\n",
    "    'thresh_fdr': 0.1,\n",
    "    'spec' : 0.1,\n",
    "    'y_factor': True,\n",
    "    'niter' : 500,\n",
    "    'SLIDE_top_feats': 20,\n",
    "    'pure_homo' : True,\n",
    "    'delta' : [0.01, 0.1],\n",
    "    'lambda' : [0.1, 0.5],\n",
    "    'out_path': '/ix3/djishnu/alw399/SLIDE_PLM/data/slide/outputs/alyx/bcells'\n",
    "}"
   ]
  },
  {
   "cell_type": "code",
   "execution_count": 12,
   "metadata": {},
   "outputs": [],
   "source": [
    "import sys\n",
    "sys.path.append('src/SLIDE')"
   ]
  },
  {
   "cell_type": "code",
   "execution_count": 13,
   "metadata": {},
   "outputs": [],
   "source": [
    "from slide import OptimizeSLIDE\n",
    "\n",
    "slider = OptimizeSLIDE(\n",
    "    input_params, x=x, y=y)"
   ]
  },
  {
   "cell_type": "code",
   "execution_count": null,
   "metadata": {},
   "outputs": [],
   "source": [
    "%%time\n",
    "slider.run_pipeline(verbose=True, n_workers=1)"
   ]
  },
  {
   "cell_type": "code",
   "execution_count": 7,
   "metadata": {},
   "outputs": [],
   "source": [
    "# slider.create_summary_table(slider.input_params['out_path'])\n"
   ]
  },
  {
   "cell_type": "code",
   "execution_count": null,
   "metadata": {},
   "outputs": [],
   "source": []
  },
  {
   "cell_type": "markdown",
   "metadata": {},
   "source": [
    "### Debugging"
   ]
  },
  {
   "cell_type": "code",
   "execution_count": null,
   "metadata": {},
   "outputs": [],
   "source": [
    "out_iter = '/ix3/djishnu/alw399/SLIDE_py/example_results/slide_py/0.1_0.5_out/love_result.pkl'\n",
    "\n",
    "slider.show_params()\n",
    "slider.load_love(out_iter)"
   ]
  },
  {
   "cell_type": "code",
   "execution_count": null,
   "metadata": {},
   "outputs": [],
   "source": [
    "n_workers = 1\n",
    "verbose=True\n",
    "\n",
    "slider.run_SLIDE(\n",
    "    latent_factors=slider.latent_factors, \n",
    "    niter=slider.input_params['niter'], \n",
    "    spec=slider.input_params['spec'], \n",
    "    fdr=slider.input_params['fdr'],\n",
    "    verbose=verbose,\n",
    "    n_workers=n_workers,\n",
    "    outpath=out_iter\n",
    ")"
   ]
  },
  {
   "cell_type": "code",
   "execution_count": null,
   "metadata": {},
   "outputs": [],
   "source": [
    "from knockoffs import Knockoffs\n",
    "\n",
    "machop = Knockoffs(slider.data['Y'].values, slider.latent_factors.values)\n",
    "machop "
   ]
  },
  {
   "cell_type": "code",
   "execution_count": null,
   "metadata": {},
   "outputs": [],
   "source": [
    "result = machop.filter_knockoffs_iterative(machop.z2, machop.y, fdr=0.1, niter=10)\n",
    "result"
   ]
  },
  {
   "cell_type": "code",
   "execution_count": null,
   "metadata": {},
   "outputs": [],
   "source": []
  },
  {
   "cell_type": "code",
   "execution_count": null,
   "metadata": {},
   "outputs": [],
   "source": []
  },
  {
   "cell_type": "code",
   "execution_count": 7,
   "metadata": {},
   "outputs": [],
   "source": [
    "delta = 0.1\n",
    "lbd = 0.5\n",
    "\n",
    "out_iter = input_params['out_path'] + f'/{delta}_{lbd}_out'"
   ]
  },
  {
   "cell_type": "code",
   "execution_count": 8,
   "metadata": {},
   "outputs": [],
   "source": [
    "slider.load_love(out_iter + '/love_result.pkl')"
   ]
  },
  {
   "cell_type": "code",
   "execution_count": 67,
   "metadata": {},
   "outputs": [],
   "source": [
    "slider.sig_LFs = np.loadtxt(out_iter + '/sig_LFs.txt', dtype=str).reshape(-1).tolist()\n",
    "slider.sig_interacts = np.loadtxt(out_iter + '/sig_interacts.txt', dtype=str).reshape(-1).tolist()"
   ]
  },
  {
   "cell_type": "code",
   "execution_count": null,
   "metadata": {},
   "outputs": [],
   "source": [
    "from knockoffs import Knockoffs\n",
    "\n",
    "n = slider.latent_factors.shape[0]\n",
    "\n",
    "slider.interaction_terms = Knockoffs.get_interaction_terms(\n",
    "    slider.latent_factors[slider.sig_LFs].values, \n",
    "    slider.latent_factors[slider.sig_interacts].values\n",
    ").reshape(n, -1)\n",
    "\n",
    "slider.interaction_terms.shape"
   ]
  },
  {
   "cell_type": "code",
   "execution_count": null,
   "metadata": {},
   "outputs": [],
   "source": [
    "from plotting import Plotter\n",
    "\n",
    "sig_LF_genes = {str(lf): slider.get_LF_genes(\n",
    "    lf=lf, \n",
    "    top_feats=20,\n",
    "    outpath=out_iter) for lf in slider.sig_LFs}\n",
    "_ = Plotter.plot_latent_factors(sig_LF_genes, loadings=slider.A, outdir=out_iter, title='marginal_LFs')"
   ]
  },
  {
   "cell_type": "code",
   "execution_count": null,
   "metadata": {},
   "outputs": [],
   "source": [
    "sig_interact_genes = {str(lf): slider.get_LF_genes(\n",
    "    lf=lf, \n",
    "    top_feats=20,\n",
    "    outpath=out_iter) for lf in slider.sig_interacts}\n",
    "_ = Plotter.plot_latent_factors(sig_interact_genes, loadings=slider.A, outdir=out_iter, title='interaction_LFs')"
   ]
  },
  {
   "cell_type": "code",
   "execution_count": null,
   "metadata": {},
   "outputs": [],
   "source": []
  }
 ],
 "metadata": {
  "kernelspec": {
   "display_name": "Python 3",
   "language": "python",
   "name": "python3"
  },
  "language_info": {
   "codemirror_mode": {
    "name": "ipython",
    "version": 3
   },
   "file_extension": ".py",
   "mimetype": "text/x-python",
   "name": "python",
   "nbconvert_exporter": "python",
   "pygments_lexer": "ipython3",
   "version": "3.9.21"
  },
  "orig_nbformat": 4
 },
 "nbformat": 4,
 "nbformat_minor": 2
}
